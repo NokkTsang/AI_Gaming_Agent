{
 "cells": [
  {
   "cell_type": "markdown",
   "id": "91a997f8",
   "metadata": {},
   "source": [
    "## quick demo"
   ]
  },
  {
   "cell_type": "code",
   "execution_count": null,
   "id": "e30dd12f",
   "metadata": {
    "vscode": {
     "languageId": "powershell"
    }
   },
   "outputs": [],
   "source": [
    "pip install \"smolagents[toolkit]\""
   ]
  },
  {
   "cell_type": "code",
   "execution_count": null,
   "id": "c6c13001",
   "metadata": {},
   "outputs": [],
   "source": [
    "from smolagents import CodeAgent, WebSearchTool, InferenceClientModel\n",
    "from config import HF_TOKEN\n",
    "\n",
    "# Create model with configuration\n",
    "model = InferenceClientModel(\n",
    "    token=HF_TOKEN\n",
    ")\n",
    "\n",
    "agent = CodeAgent(tools=[WebSearchTool()], model=model, stream_outputs=True)\n",
    "\n",
    "agent.run(\"How many seconds would it take for a leopard at full speed to run through Pont des Arts?\")"
   ]
  },
  {
   "cell_type": "markdown",
   "id": "fbd30751",
   "metadata": {},
   "source": [
    "## switch to any inference provider"
   ]
  },
  {
   "cell_type": "code",
   "execution_count": null,
   "id": "ae63ede5",
   "metadata": {},
   "outputs": [],
   "source": [
    "# InferenceClientModel, gateway for all inference providers supported on HF\n",
    "\n",
    "from smolagents import InferenceClientModel\n",
    "\n",
    "model = InferenceClientModel(\n",
    "    model_id=\"deepseek-ai/DeepSeek-R1\",\n",
    "    provider=\"together\",\n",
    ")"
   ]
  },
  {
   "cell_type": "code",
   "execution_count": null,
   "id": "d6fd8399",
   "metadata": {},
   "outputs": [],
   "source": [
    "# LiteLLM to access 100+ LLMs\n",
    "\n",
    "from smolagents import LiteLLMModel\n",
    "\n",
    "model = LiteLLMModel(\n",
    "    model_id=\"anthropic/claude-3-5-sonnet-latest\",\n",
    "    temperature=0.2,\n",
    "    api_key=os.environ[\"ANTHROPIC_API_KEY\"]\n",
    ")"
   ]
  },
  {
   "cell_type": "code",
   "execution_count": null,
   "id": "3647a63c",
   "metadata": {},
   "outputs": [],
   "source": [
    "# OpenAI-compatible servers: OpenRouter\n",
    "\n",
    "import os\n",
    "from smolagents import OpenAIServerModel\n",
    "\n",
    "model = OpenAIServerModel(\n",
    "    model_id=\"openai/gpt-4o\",\n",
    "    api_base=\"https://openrouter.ai/api/v1\", # Leave this blank to query OpenAI servers.\n",
    "    api_key=os.environ[\"OPENROUTER_API_KEY\"], # Switch to the API key for the server you're targeting.\n",
    ")"
   ]
  },
  {
   "cell_type": "markdown",
   "id": "51c9d235",
   "metadata": {},
   "source": [
    "## CLI"
   ]
  },
  {
   "cell_type": "markdown",
   "id": "60903f3d",
   "metadata": {},
   "source": [
    "`smolagent` is a generalist command to run a multi-step `CodeAgent` that can be equipped with various tools."
   ]
  },
  {
   "cell_type": "code",
   "execution_count": null,
   "id": "79731413",
   "metadata": {
    "vscode": {
     "languageId": "powershell"
    }
   },
   "outputs": [],
   "source": [
    "smolagent \"Plan a trip to Tokyo, Kyoto and Osaka between Mar 28 and Apr 7.\"  --model-type \"InferenceClientModel\" --model-id \"Qwen/Qwen2.5-Coder-32B-Instruct\" --imports \"pandas numpy\" --tools \"web_search\""
   ]
  },
  {
   "cell_type": "markdown",
   "id": "281c415b",
   "metadata": {},
   "source": [
    "`webagent` is a specific web-browsing agent using [helium](https://github.com/mherrmann/helium) (read more [here](https://github.com/huggingface/smolagents/blob/main/src/smolagents/vision_web_browser.py))."
   ]
  },
  {
   "cell_type": "code",
   "execution_count": null,
   "id": "49f2819c",
   "metadata": {
    "vscode": {
     "languageId": "powershell"
    }
   },
   "outputs": [],
   "source": [
    "webagent \"go to xyz.com/men, get to sale section, click the first clothing item you see. Get the product details, and the price, return them. note that I'm shopping from France\" --model-type \"LiteLLMModel\" --model-id \"gpt-4o\""
   ]
  }
 ],
 "metadata": {
  "kernelspec": {
   "display_name": "a1",
   "language": "python",
   "name": "python3"
  },
  "language_info": {
   "codemirror_mode": {
    "name": "ipython",
    "version": 3
   },
   "file_extension": ".py",
   "mimetype": "text/x-python",
   "name": "python",
   "nbconvert_exporter": "python",
   "pygments_lexer": "ipython3",
   "version": "3.10.18"
  }
 },
 "nbformat": 4,
 "nbformat_minor": 5
}
