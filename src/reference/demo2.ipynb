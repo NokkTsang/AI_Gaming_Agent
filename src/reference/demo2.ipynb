{
 "cells": [
  {
   "cell_type": "code",
   "execution_count": null,
   "id": "5a83b6d4",
   "metadata": {
    "vscode": {
     "languageId": "powershell"
    }
   },
   "outputs": [],
   "source": [
    "pip install pyautogui pillow"
   ]
  },
  {
   "cell_type": "code",
   "execution_count": 56,
   "id": "9611bc1f",
   "metadata": {},
   "outputs": [
    {
     "name": "stdout",
     "output_type": "stream",
     "text": [
      "Point(x=301, y=144)\n"
     ]
    }
   ],
   "source": [
    "import pyautogui\n",
    "import time\n",
    "import helium\n",
    "import os\n",
    "from PIL import Image\n",
    "from gaming_agent.action_parser import parsing_response_to_pyautogui_code, parse_action_to_structure_output, smart_resize\n",
    "\n",
    "\n",
    "pyautogui.PAUSE = 1\n",
    "\n",
    "print(pyautogui.position())"
   ]
  },
  {
   "cell_type": "code",
   "execution_count": 68,
   "id": "58c83fb8",
   "metadata": {},
   "outputs": [],
   "source": [
    "# Initialize the browser\n",
    "driver = helium.start_chrome(headless=False, options=chrome_options)\n",
    "driver.get(\"https://www.google.com\")"
   ]
  },
  {
   "cell_type": "code",
   "execution_count": null,
   "id": "82bfec9d",
   "metadata": {},
   "outputs": [],
   "source": [
    "# Click on the address bar\n",
    "address_bar_x, address_bar_y = 500, 550\n",
    "pyautogui.click(address_bar_x, address_bar_y)\n",
    "\n",
    "# Type the URL and press Enter\n",
    "url = \"https://www.google.com\"\n",
    "pyautogui.typewrite(url)\n",
    "\n",
    "pyautogui.PAUSE = 1\n",
    "\n",
    "pyautogui.press(\"enter\")"
   ]
  },
  {
   "cell_type": "code",
   "execution_count": null,
   "id": "8a607d60",
   "metadata": {},
   "outputs": [],
   "source": [
    "screenshot = pyautogui.screenshot()\n",
    "screenshot.save(\"screenshot.png\")\n",
    "\n",
    "image = Image.open(\"screenshot.png\")\n",
    "image.show()"
   ]
  },
  {
   "cell_type": "code",
   "execution_count": 57,
   "id": "238bddeb",
   "metadata": {},
   "outputs": [
    {
     "name": "stdout",
     "output_type": "stream",
     "text": [
      "import pyautogui\n",
      "import time\n",
      "'''\n",
      "Observation:\n",
      "\n",
      "\n",
      "Thought:\n",
      "Click the button\n",
      "'''\n",
      "\n",
      "pyautogui.click(99.379, 197.802, button='left')\n"
     ]
    }
   ],
   "source": [
    "# Example response from the agent\n",
    "response = \"Thought: Click the button\\nAction: click(start_box='(100,200)')\"\n",
    "original_image_width, original_image_height = 1920, 1080\n",
    "\n",
    "parsed_dict = parse_action_to_structure_output(\n",
    "    response,\n",
    "    factor=1000,\n",
    "    origin_resized_height=original_image_height,\n",
    "    origin_resized_width=original_image_width,\n",
    "    model_type=\"qwen25vl\"\n",
    ")\n",
    "\n",
    "image_height = 1080  # screen height\n",
    "image_width = 1920   # screen width\n",
    "\n",
    "pyautogui_code = parsing_response_to_pyautogui_code(\n",
    "    responses=parsed_dict,\n",
    "    image_height=image_height,\n",
    "    image_width=image_width\n",
    ")\n",
    "\n",
    "print(pyautogui_code)\n",
    "\n",
    "# exec(pyautogui_code)"
   ]
  }
 ],
 "metadata": {
  "kernelspec": {
   "display_name": "a1",
   "language": "python",
   "name": "python3"
  },
  "language_info": {
   "codemirror_mode": {
    "name": "ipython",
    "version": 3
   },
   "file_extension": ".py",
   "mimetype": "text/x-python",
   "name": "python",
   "nbconvert_exporter": "python",
   "pygments_lexer": "ipython3",
   "version": "3.10.18"
  }
 },
 "nbformat": 4,
 "nbformat_minor": 5
}
